{
 "cells": [
  {
   "cell_type": "markdown",
   "metadata": {},
   "source": [
    "## Answer in 95% CI:"
   ]
  },
  {
   "cell_type": "markdown",
   "metadata": {},
   "source": [
    "#### Default XGBoost"
   ]
  },
  {
   "cell_type": "code",
   "execution_count": 19,
   "metadata": {},
   "outputs": [
    {
     "name": "stdout",
     "output_type": "stream",
     "text": [
      "update_death_in_30.pickle \n",
      "\n",
      "mean auroc:  0.87 (0.859, 0.882)\n",
      "mean auprc:  0.184 (0.152, 0.217)\n",
      "mean precision:  0.158 (0.144, 0.172)\n",
      "mean recall:  0.459 (0.427, 0.491)\n",
      "mean specificity:  0.95 (0.95, 0.95)\n",
      "mean accuracy:  0.94 (0.94, 0.941)\n",
      "mean f1:  0.235 (0.215, 0.255)\n",
      "\n",
      "---------------------\n",
      "\n",
      "update_DVT.pickle \n",
      "\n",
      "mean auroc:  0.781 (0.739, 0.823)\n",
      "mean auprc:  0.025 (0.018, 0.033)\n",
      "mean precision:  0.032 (0.025, 0.039)\n",
      "mean recall:  0.277 (0.236, 0.319)\n",
      "mean specificity:  0.95 (0.95, 0.95)\n",
      "mean accuracy:  0.946 (0.946, 0.947)\n",
      "mean f1:  0.057 (0.045, 0.069)\n",
      "\n",
      "---------------------\n",
      "\n",
      "update_PE.pickle \n",
      "\n",
      "mean auroc:  0.749 (0.708, 0.79)\n",
      "mean auprc:  0.013 (0.01, 0.016)\n",
      "mean precision:  0.014 (0.012, 0.016)\n",
      "mean recall:  0.213 (0.179, 0.247)\n",
      "mean specificity:  0.95 (0.95, 0.951)\n",
      "mean accuracy:  0.948 (0.947, 0.949)\n",
      "mean f1:  0.027 (0.023, 0.031)\n",
      "\n",
      "---------------------\n",
      "\n",
      "update_PNA.pickle \n",
      "\n",
      "mean auroc:  0.829 (0.8, 0.857)\n",
      "mean auprc:  0.05 (0.03, 0.069)\n",
      "mean precision:  0.044 (0.038, 0.049)\n",
      "mean recall:  0.405 (0.348, 0.462)\n",
      "mean specificity:  0.95 (0.95, 0.951)\n",
      "mean accuracy:  0.947 (0.946, 0.948)\n",
      "mean f1:  0.079 (0.069, 0.089)\n",
      "\n",
      "---------------------\n",
      "\n",
      "update_post_aki_status.pickle \n",
      "\n",
      "mean auroc:  0.841 (0.839, 0.844)\n",
      "mean auprc:  0.492 (0.48, 0.504)\n",
      "mean precision:  0.53 (0.519, 0.541)\n",
      "mean recall:  0.362 (0.352, 0.371)\n",
      "mean specificity:  0.95 (0.95, 0.95)\n",
      "mean accuracy:  0.871 (0.869, 0.873)\n",
      "mean f1:  0.43 (0.42, 0.439)\n",
      "\n",
      "---------------------\n",
      "\n",
      "update_postop_del.pickle \n",
      "\n",
      "mean auroc:  0.692 (0.672, 0.712)\n",
      "mean auprc:  0.668 (0.635, 0.701)\n",
      "mean precision:  0.786 (0.757, 0.816)\n",
      "mean recall:  0.207 (0.175, 0.239)\n",
      "mean specificity:  0.951 (0.95, 0.952)\n",
      "mean accuracy:  0.603 (0.594, 0.612)\n",
      "mean f1:  0.328 (0.285, 0.37)\n",
      "\n",
      "---------------------\n",
      "\n"
     ]
    },
    {
     "name": "stderr",
     "output_type": "stream",
     "text": [
      "/tmp/ipykernel_2102573/3800368754.py:17: DeprecationWarning: Use of keyword argument 'alpha' for method 'interval' is deprecated and wil be removed in SciPy 1.11.0. Use first positional argument or keyword argument 'confidence' instead.\n",
      "  mean_auroc, conf_auroc = rounded_stats(np.mean(data[\"auroc\"]), st.t.interval(alpha=0.95, df=len(data[\"auroc\"])-1, loc=np.mean(data[\"auroc\"]), scale=st.sem(data[\"auroc\"])))\n",
      "/tmp/ipykernel_2102573/3800368754.py:18: DeprecationWarning: Use of keyword argument 'alpha' for method 'interval' is deprecated and wil be removed in SciPy 1.11.0. Use first positional argument or keyword argument 'confidence' instead.\n",
      "  mean_auprc, conf_auprc = rounded_stats(np.mean(data[\"auprc\"]), st.t.interval(alpha=0.95, df=len(data[\"auprc\"])-1, loc=np.mean(data[\"auprc\"]), scale=st.sem(data[\"auprc\"])))\n",
      "/tmp/ipykernel_2102573/3800368754.py:19: DeprecationWarning: Use of keyword argument 'alpha' for method 'interval' is deprecated and wil be removed in SciPy 1.11.0. Use first positional argument or keyword argument 'confidence' instead.\n",
      "  mean_precision, conf_precision = rounded_stats(np.mean(data[\"precision\"]), st.t.interval(alpha=0.95, df=len(data[\"precision\"])-1, loc=np.mean(data[\"precision\"]), scale=st.sem(data[\"precision\"])))\n",
      "/tmp/ipykernel_2102573/3800368754.py:20: DeprecationWarning: Use of keyword argument 'alpha' for method 'interval' is deprecated and wil be removed in SciPy 1.11.0. Use first positional argument or keyword argument 'confidence' instead.\n",
      "  mean_recall, conf_recall = rounded_stats(np.mean(data[\"recall\"]), st.t.interval(alpha=0.95, df=len(data[\"recall\"])-1, loc=np.mean(data[\"recall\"]), scale=st.sem(data[\"recall\"])))\n",
      "/tmp/ipykernel_2102573/3800368754.py:21: DeprecationWarning: Use of keyword argument 'alpha' for method 'interval' is deprecated and wil be removed in SciPy 1.11.0. Use first positional argument or keyword argument 'confidence' instead.\n",
      "  mean_specificity, conf_specificity = rounded_stats(np.mean(data[\"specificity\"]), st.t.interval(alpha=0.95, df=len(data[\"specificity\"])-1, loc=np.mean(data[\"specificity\"]), scale=st.sem(data[\"specificity\"])))\n",
      "/tmp/ipykernel_2102573/3800368754.py:22: DeprecationWarning: Use of keyword argument 'alpha' for method 'interval' is deprecated and wil be removed in SciPy 1.11.0. Use first positional argument or keyword argument 'confidence' instead.\n",
      "  mean_accuracy, conf_accuracy = rounded_stats(np.mean(data[\"accuracy\"]), st.t.interval(alpha=0.95, df=len(data[\"accuracy\"])-1, loc=np.mean(data[\"accuracy\"]), scale=st.sem(data[\"accuracy\"])))\n",
      "/tmp/ipykernel_2102573/3800368754.py:23: DeprecationWarning: Use of keyword argument 'alpha' for method 'interval' is deprecated and wil be removed in SciPy 1.11.0. Use first positional argument or keyword argument 'confidence' instead.\n",
      "  mean_f1, conf_f1 = rounded_stats(np.mean(data[\"f1\"]), st.t.interval(alpha=0.95, df=len(data[\"f1\"])-1, loc=np.mean(data[\"f1\"]), scale=st.sem(data[\"f1\"])))\n"
     ]
    }
   ],
   "source": [
    "import scipy.stats as st\n",
    "import pickle\n",
    "import numpy as np\n",
    "\n",
    "# We'll define a helper function to round the mean and the confidence interval\n",
    "def rounded_stats(mean, conf_int):\n",
    "    return round(mean, 3), (round(conf_int[0], 3), round(conf_int[1], 3))\n",
    "\n",
    "# Assuming you have the .pickle files in the same directory as this script,\n",
    "# this loop will process each file and print the rounded statistics.\n",
    "for i in [\"update_death_in_30.pickle\",\"update_DVT.pickle\",\"update_PE.pickle\",\"update_PNA.pickle\",\"update_post_aki_status.pickle\",\"update_postop_del.pickle\"]:\n",
    "    with open(i, 'rb') as f:\n",
    "        data = pickle.load(f)\n",
    "\n",
    "    print(i, \"\\n\")\n",
    "    # Compute the mean and confidence interval, then round them\n",
    "    mean_auroc, conf_auroc = rounded_stats(np.mean(data[\"auroc\"]), st.t.interval(alpha=0.95, df=len(data[\"auroc\"])-1, loc=np.mean(data[\"auroc\"]), scale=st.sem(data[\"auroc\"])))\n",
    "    mean_auprc, conf_auprc = rounded_stats(np.mean(data[\"auprc\"]), st.t.interval(alpha=0.95, df=len(data[\"auprc\"])-1, loc=np.mean(data[\"auprc\"]), scale=st.sem(data[\"auprc\"])))\n",
    "    mean_precision, conf_precision = rounded_stats(np.mean(data[\"precision\"]), st.t.interval(alpha=0.95, df=len(data[\"precision\"])-1, loc=np.mean(data[\"precision\"]), scale=st.sem(data[\"precision\"])))\n",
    "    mean_recall, conf_recall = rounded_stats(np.mean(data[\"recall\"]), st.t.interval(alpha=0.95, df=len(data[\"recall\"])-1, loc=np.mean(data[\"recall\"]), scale=st.sem(data[\"recall\"])))\n",
    "    mean_specificity, conf_specificity = rounded_stats(np.mean(data[\"specificity\"]), st.t.interval(alpha=0.95, df=len(data[\"specificity\"])-1, loc=np.mean(data[\"specificity\"]), scale=st.sem(data[\"specificity\"])))\n",
    "    mean_accuracy, conf_accuracy = rounded_stats(np.mean(data[\"accuracy\"]), st.t.interval(alpha=0.95, df=len(data[\"accuracy\"])-1, loc=np.mean(data[\"accuracy\"]), scale=st.sem(data[\"accuracy\"])))\n",
    "    mean_f1, conf_f1 = rounded_stats(np.mean(data[\"f1\"]), st.t.interval(alpha=0.95, df=len(data[\"f1\"])-1, loc=np.mean(data[\"f1\"]), scale=st.sem(data[\"f1\"])))\n",
    "    \n",
    "    # Print the rounded statistics\n",
    "    print(\"mean auroc: \", mean_auroc, conf_auroc)\n",
    "    print(\"mean auprc: \", mean_auprc, conf_auprc)\n",
    "    print(\"mean precision: \", mean_precision, conf_precision)\n",
    "    print(\"mean recall: \", mean_recall, conf_recall)\n",
    "    print(\"mean specificity: \", mean_specificity, conf_specificity)\n",
    "    print(\"mean accuracy: \", mean_accuracy, conf_accuracy)\n",
    "    print(\"mean f1: \", mean_f1, conf_f1)\n",
    "    print(\"\\n---------------------\\n\")\n"
   ]
  },
  {
   "cell_type": "markdown",
   "metadata": {},
   "source": [
    "### RF version "
   ]
  },
  {
   "cell_type": "code",
   "execution_count": 21,
   "metadata": {},
   "outputs": [
    {
     "name": "stdout",
     "output_type": "stream",
     "text": [
      "update_death_in_30_rf.pickle \n",
      "\n",
      "mean auroc:  0.866 (0.856, 0.876)\n",
      "mean auprc:  0.181 (0.15, 0.212)\n",
      "\n",
      "---------------------\n",
      "\n",
      "update_DVT_rf.pickle \n",
      "\n",
      "mean auroc:  0.795 (0.765, 0.824)\n",
      "mean auprc:  0.027 (0.02, 0.034)\n",
      "\n",
      "---------------------\n",
      "\n",
      "update_PE_rf.pickle \n",
      "\n",
      "mean auroc:  0.751 (0.708, 0.794)\n",
      "mean auprc:  0.019 (-0.0, 0.039)\n",
      "\n",
      "---------------------\n",
      "\n",
      "update_PNA_rf.pickle \n",
      "\n",
      "mean auroc:  0.832 (0.806, 0.858)\n",
      "mean auprc:  0.053 (0.033, 0.073)\n",
      "\n",
      "---------------------\n",
      "\n",
      "update_post_aki_status_rf.pickle \n",
      "\n",
      "mean auroc:  0.834 (0.833, 0.836)\n",
      "mean auprc:  0.479 (0.468, 0.49)\n",
      "\n",
      "---------------------\n",
      "\n",
      "update_postop_del_rf.pickle \n",
      "\n",
      "mean auroc:  0.699 (0.679, 0.719)\n",
      "mean auprc:  0.675 (0.645, 0.705)\n",
      "\n",
      "---------------------\n",
      "\n"
     ]
    },
    {
     "name": "stderr",
     "output_type": "stream",
     "text": [
      "/tmp/ipykernel_2102573/1939896166.py:11: DeprecationWarning: Use of keyword argument 'alpha' for method 'interval' is deprecated and wil be removed in SciPy 1.11.0. Use first positional argument or keyword argument 'confidence' instead.\n",
      "  mean_auroc, conf_auroc = rounded_stats(np.mean(data[\"auroc\"]), st.t.interval(alpha=0.95, df=len(data[\"auroc\"])-1, loc=np.mean(data[\"auroc\"]), scale=st.sem(data[\"auroc\"])))\n",
      "/tmp/ipykernel_2102573/1939896166.py:12: DeprecationWarning: Use of keyword argument 'alpha' for method 'interval' is deprecated and wil be removed in SciPy 1.11.0. Use first positional argument or keyword argument 'confidence' instead.\n",
      "  mean_auprc, conf_auprc = rounded_stats(np.mean(data[\"auprc\"]), st.t.interval(alpha=0.95, df=len(data[\"auprc\"])-1, loc=np.mean(data[\"auprc\"]), scale=st.sem(data[\"auprc\"])))\n"
     ]
    }
   ],
   "source": [
    "import scipy.stats as st\n",
    "import pickle\n",
    "import numpy as np\n",
    "for i in [\"update_death_in_30_rf.pickle\",\"update_DVT_rf.pickle\",\"update_PE_rf.pickle\",\"update_PNA_rf.pickle\",\n",
    "          \"update_post_aki_status_rf.pickle\",\"update_postop_del_rf.pickle\"]:\n",
    "    with open(i, 'rb') as f:\n",
    "        data=pickle.load(f)\n",
    "\n",
    "    print(i, \"\\n\")\n",
    "    # Compute the mean and confidence interval, then round them\n",
    "    mean_auroc, conf_auroc = rounded_stats(np.mean(data[\"auroc\"]), st.t.interval(alpha=0.95, df=len(data[\"auroc\"])-1, loc=np.mean(data[\"auroc\"]), scale=st.sem(data[\"auroc\"])))\n",
    "    mean_auprc, conf_auprc = rounded_stats(np.mean(data[\"auprc\"]), st.t.interval(alpha=0.95, df=len(data[\"auprc\"])-1, loc=np.mean(data[\"auprc\"]), scale=st.sem(data[\"auprc\"])))\n",
    "    \n",
    "    # Print the rounded statistics\n",
    "    print(\"mean auroc: \", mean_auroc, conf_auroc)\n",
    "    print(\"mean auprc: \", mean_auprc, conf_auprc)\n",
    "    print(\"\\n---------------------\\n\")"
   ]
  },
  {
   "cell_type": "markdown",
   "metadata": {},
   "source": [
    "#### Log Reg version"
   ]
  },
  {
   "cell_type": "code",
   "execution_count": 20,
   "metadata": {},
   "outputs": [
    {
     "name": "stdout",
     "output_type": "stream",
     "text": [
      "update_death_in_30_logreg.pickle \n",
      "\n",
      "mean auroc:  0.87 (0.858, 0.882)\n",
      "mean auprc:  0.183 (0.145, 0.221)\n",
      "\n",
      "---------------------\n",
      "\n",
      "update_DVT_logreg.pickle \n",
      "\n",
      "mean auroc:  0.793 (0.765, 0.822)\n",
      "mean auprc:  0.03 (0.025, 0.035)\n",
      "\n",
      "---------------------\n",
      "\n",
      "update_PE_logreg.pickle \n",
      "\n",
      "mean auroc:  0.739 (0.668, 0.811)\n",
      "mean auprc:  0.012 (0.008, 0.017)\n",
      "\n",
      "---------------------\n",
      "\n",
      "update_PNA_logreg.pickle \n",
      "\n",
      "mean auroc:  0.847 (0.822, 0.871)\n",
      "mean auprc:  0.051 (0.03, 0.071)\n",
      "\n",
      "---------------------\n",
      "\n",
      "update_post_aki_status_logreg.pickle \n",
      "\n",
      "mean auroc:  0.84 (0.837, 0.843)\n",
      "mean auprc:  0.49 (0.48, 0.5)\n",
      "\n",
      "---------------------\n",
      "\n",
      "update_postop_del_logreg.pickle \n",
      "\n",
      "mean auroc:  0.691 (0.671, 0.71)\n",
      "mean auprc:  0.666 (0.636, 0.696)\n",
      "\n",
      "---------------------\n",
      "\n"
     ]
    },
    {
     "name": "stderr",
     "output_type": "stream",
     "text": [
      "/tmp/ipykernel_2102573/3398383615.py:11: DeprecationWarning: Use of keyword argument 'alpha' for method 'interval' is deprecated and wil be removed in SciPy 1.11.0. Use first positional argument or keyword argument 'confidence' instead.\n",
      "  mean_auroc, conf_auroc = rounded_stats(np.mean(data[\"auroc\"]), st.t.interval(alpha=0.95, df=len(data[\"auroc\"])-1, loc=np.mean(data[\"auroc\"]), scale=st.sem(data[\"auroc\"])))\n",
      "/tmp/ipykernel_2102573/3398383615.py:12: DeprecationWarning: Use of keyword argument 'alpha' for method 'interval' is deprecated and wil be removed in SciPy 1.11.0. Use first positional argument or keyword argument 'confidence' instead.\n",
      "  mean_auprc, conf_auprc = rounded_stats(np.mean(data[\"auprc\"]), st.t.interval(alpha=0.95, df=len(data[\"auprc\"])-1, loc=np.mean(data[\"auprc\"]), scale=st.sem(data[\"auprc\"])))\n"
     ]
    }
   ],
   "source": [
    "import scipy.stats as st\n",
    "import pickle\n",
    "import numpy as np\n",
    "for i in [\"update_death_in_30_logreg.pickle\",\"update_DVT_logreg.pickle\",\"update_PE_logreg.pickle\",\"update_PNA_logreg.pickle\",\n",
    "          \"update_post_aki_status_logreg.pickle\",\"update_postop_del_logreg.pickle\"]:\n",
    "    with open(i, 'rb') as f:\n",
    "        data=pickle.load(f)\n",
    "\n",
    "    print(i, \"\\n\")\n",
    "    # Compute the mean and confidence interval, then round them\n",
    "    mean_auroc, conf_auroc = rounded_stats(np.mean(data[\"auroc\"]), st.t.interval(alpha=0.95, df=len(data[\"auroc\"])-1, loc=np.mean(data[\"auroc\"]), scale=st.sem(data[\"auroc\"])))\n",
    "    mean_auprc, conf_auprc = rounded_stats(np.mean(data[\"auprc\"]), st.t.interval(alpha=0.95, df=len(data[\"auprc\"])-1, loc=np.mean(data[\"auprc\"]), scale=st.sem(data[\"auprc\"])))\n",
    "    \n",
    "    # Print the rounded statistics\n",
    "    print(\"mean auroc: \", mean_auroc, conf_auroc)\n",
    "    print(\"mean auprc: \", mean_auprc, conf_auprc)\n",
    "    print(\"\\n---------------------\\n\")"
   ]
  }
 ],
 "metadata": {
  "kernelspec": {
   "display_name": "Python 3",
   "language": "python",
   "name": "python3"
  },
  "language_info": {
   "codemirror_mode": {
    "name": "ipython",
    "version": 3
   },
   "file_extension": ".py",
   "mimetype": "text/x-python",
   "name": "python",
   "nbconvert_exporter": "python",
   "pygments_lexer": "ipython3",
   "version": "3.8.10"
  },
  "orig_nbformat": 4,
  "vscode": {
   "interpreter": {
    "hash": "916dbcbb3f70747c44a77c7bcd40155683ae19c65e1c03b4aa3499c5328201f1"
   }
  }
 },
 "nbformat": 4,
 "nbformat_minor": 2
}
